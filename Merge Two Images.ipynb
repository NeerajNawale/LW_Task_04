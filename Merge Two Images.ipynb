{
 "cells": [
  {
   "cell_type": "code",
   "execution_count": 1,
   "id": "018ea406",
   "metadata": {},
   "outputs": [],
   "source": [
    "import cv2"
   ]
  },
  {
   "cell_type": "code",
   "execution_count": 2,
   "id": "7aed99f5",
   "metadata": {},
   "outputs": [],
   "source": [
    "img1 = cv2.imread(\"img1.jpg\")"
   ]
  },
  {
   "cell_type": "code",
   "execution_count": 3,
   "id": "1cc472ba",
   "metadata": {},
   "outputs": [],
   "source": [
    "cv2.imshow(\"Before Merge, img1\", img1)\n",
    "cv2.waitKey() == 13\n",
    "cv2.destroyAllWindows()"
   ]
  },
  {
   "cell_type": "code",
   "execution_count": 4,
   "id": "2b9fc5fc",
   "metadata": {},
   "outputs": [],
   "source": [
    "img2 = cv2.imread(\"img2.jpg\")"
   ]
  },
  {
   "cell_type": "code",
   "execution_count": 5,
   "id": "5efc3f75",
   "metadata": {},
   "outputs": [],
   "source": [
    "cv2.imshow(\"Before Merge, img2\", img2)\n",
    "cv2.waitKey() == 13\n",
    "cv2.destroyAllWindows()"
   ]
  },
  {
   "cell_type": "code",
   "execution_count": 6,
   "id": "19ce9c13",
   "metadata": {},
   "outputs": [],
   "source": [
    "import numpy as np"
   ]
  },
  {
   "cell_type": "code",
   "execution_count": 7,
   "id": "b133d010",
   "metadata": {},
   "outputs": [
    {
     "data": {
      "text/plain": [
       "(294, 294, 3)"
      ]
     },
     "execution_count": 7,
     "metadata": {},
     "output_type": "execute_result"
    }
   ],
   "source": [
    "img1.shape"
   ]
  },
  {
   "cell_type": "code",
   "execution_count": 8,
   "id": "ea99c9c6",
   "metadata": {},
   "outputs": [
    {
     "data": {
      "text/plain": [
       "(250, 250, 3)"
      ]
     },
     "execution_count": 8,
     "metadata": {},
     "output_type": "execute_result"
    }
   ],
   "source": [
    "img2.shape"
   ]
  },
  {
   "cell_type": "code",
   "execution_count": 9,
   "id": "a6cd26be",
   "metadata": {},
   "outputs": [],
   "source": [
    "#Dimensions must be same\n",
    "img1 = img1[:250, :250]"
   ]
  },
  {
   "cell_type": "code",
   "execution_count": 10,
   "id": "b98a654d",
   "metadata": {},
   "outputs": [],
   "source": [
    "#Horizontal stack\n",
    "himg = np.hstack((img1, img2))"
   ]
  },
  {
   "cell_type": "code",
   "execution_count": 11,
   "id": "03adb651",
   "metadata": {},
   "outputs": [],
   "source": [
    "cv2.imshow(\"hstack\", himg)\n",
    "cv2.waitKey() == 13\n",
    "cv2.destroyAllWindows()"
   ]
  },
  {
   "cell_type": "code",
   "execution_count": 12,
   "id": "343e50d5",
   "metadata": {},
   "outputs": [],
   "source": [
    "vimg = np.vstack((img2, img1))"
   ]
  },
  {
   "cell_type": "code",
   "execution_count": 13,
   "id": "5682e50e",
   "metadata": {},
   "outputs": [],
   "source": [
    "cv2.imshow(\"vstack\", vimg)\n",
    "cv2.waitKey() == 13\n",
    "cv2.destroyAllWindows()"
   ]
  },
  {
   "cell_type": "code",
   "execution_count": null,
   "id": "74292f3c",
   "metadata": {},
   "outputs": [],
   "source": []
  }
 ],
 "metadata": {
  "kernelspec": {
   "display_name": "Python 3",
   "language": "python",
   "name": "python3"
  },
  "language_info": {
   "codemirror_mode": {
    "name": "ipython",
    "version": 3
   },
   "file_extension": ".py",
   "mimetype": "text/x-python",
   "name": "python",
   "nbconvert_exporter": "python",
   "pygments_lexer": "ipython3",
   "version": "3.6.8"
  }
 },
 "nbformat": 4,
 "nbformat_minor": 5
}
