{
 "cells": [
  {
   "cell_type": "code",
   "execution_count": 1,
   "id": "6c0dc74d",
   "metadata": {},
   "outputs": [],
   "source": [
    "import cv2"
   ]
  },
  {
   "cell_type": "code",
   "execution_count": 2,
   "id": "5d21e9c5",
   "metadata": {},
   "outputs": [],
   "source": [
    "img1 = cv2.imread(\"img4.jpg\")"
   ]
  },
  {
   "cell_type": "code",
   "execution_count": 3,
   "id": "a44af5ba",
   "metadata": {},
   "outputs": [],
   "source": [
    "cv2.imshow(\"Before Swap, img1\", img1)\n",
    "cv2.waitKey() == 13\n",
    "cv2.destroyAllWindows()"
   ]
  },
  {
   "cell_type": "code",
   "execution_count": 4,
   "id": "49c4fc34",
   "metadata": {},
   "outputs": [],
   "source": [
    "img2 = cv2.imread(\"img5.jpg\")"
   ]
  },
  {
   "cell_type": "code",
   "execution_count": 5,
   "id": "38ac95c1",
   "metadata": {},
   "outputs": [],
   "source": [
    "cv2.imshow(\"Before Swap, img2\", img2)\n",
    "cv2.waitKey() == 13\n",
    "cv2.destroyAllWindows()"
   ]
  },
  {
   "cell_type": "code",
   "execution_count": 6,
   "id": "f77d5a38",
   "metadata": {},
   "outputs": [],
   "source": [
    "img1[21:578, 192:320] = img2[21:578, 192:320]"
   ]
  },
  {
   "cell_type": "code",
   "execution_count": 7,
   "id": "00cb0fdd",
   "metadata": {},
   "outputs": [],
   "source": [
    "cv2.imshow(\"After Swap, img1\", img1)\n",
    "cv2.waitKey() == 13\n",
    "cv2.destroyAllWindows()"
   ]
  },
  {
   "cell_type": "code",
   "execution_count": 8,
   "id": "95ba6051",
   "metadata": {},
   "outputs": [],
   "source": [
    "img2[13:587, 13:142] = img1[13:587, 13:142]"
   ]
  },
  {
   "cell_type": "code",
   "execution_count": 9,
   "id": "67022f79",
   "metadata": {},
   "outputs": [],
   "source": [
    "cv2.imshow(\"After Swap, img2\", img2)\n",
    "cv2.waitKey() == 13\n",
    "cv2.destroyAllWindows()"
   ]
  },
  {
   "cell_type": "code",
   "execution_count": null,
   "id": "c8b6577d",
   "metadata": {},
   "outputs": [],
   "source": []
  }
 ],
 "metadata": {
  "kernelspec": {
   "display_name": "Python 3",
   "language": "python",
   "name": "python3"
  },
  "language_info": {
   "codemirror_mode": {
    "name": "ipython",
    "version": 3
   },
   "file_extension": ".py",
   "mimetype": "text/x-python",
   "name": "python",
   "nbconvert_exporter": "python",
   "pygments_lexer": "ipython3",
   "version": "3.6.8"
  }
 },
 "nbformat": 4,
 "nbformat_minor": 5
}
