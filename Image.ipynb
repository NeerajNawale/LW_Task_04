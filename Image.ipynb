{
 "cells": [
  {
   "cell_type": "code",
   "execution_count": 1,
   "id": "13eee964",
   "metadata": {},
   "outputs": [],
   "source": [
    "#TASK - 1"
   ]
  },
  {
   "cell_type": "code",
   "execution_count": 2,
   "id": "6ecf8635",
   "metadata": {},
   "outputs": [],
   "source": [
    "import cv2"
   ]
  },
  {
   "cell_type": "code",
   "execution_count": 3,
   "id": "29256b42",
   "metadata": {},
   "outputs": [],
   "source": [
    "import numpy as np"
   ]
  },
  {
   "cell_type": "code",
   "execution_count": 4,
   "id": "a1195ff7",
   "metadata": {},
   "outputs": [],
   "source": [
    "img = np.zeros((700, 700, 3), dtype=np.uint8)"
   ]
  },
  {
   "cell_type": "code",
   "execution_count": 5,
   "id": "ea3683c6",
   "metadata": {},
   "outputs": [],
   "source": [
    "img[583:650, 20:90] = [61, 79, 39]\n",
    "img[565:678, 109:251] = [37, 56, 39]\n",
    "img[474:550, 180:258] = [9, 43, 39]\n",
    "img[465:619, 273:467] = [0, 0, 90]\n",
    "img[402:550, 20:168] = [0, 0, 90]\n",
    "img[356:512, 485:690] = [61, 79, 39]\n",
    "img[530:638, 481:636] = [37, 56, 39] \n",
    "img[284:447, 224:450] = [37, 56, 39]\n",
    "img[148:338, 465:658] = [0, 0, 100]\n",
    "img[30:261, 311:432] = [61, 79, 39]\n",
    "img[113:228, 58:292] = [9, 43, 39]\n",
    "img[89:225, 376:546] = [0, 0, 255]\n",
    "img[42:310, 592:560] = [0, 0, 255]\n",
    "img[247:423, 413:679] = [0, 0, 255]\n",
    "img[252:348, 278:402] = [0, 0, 255]\n",
    "img[375:506, 237:348] = [0, 0, 255]\n",
    "img[313:449, 108:224] = [0, 0, 255]\n",
    "img[467:516, 418:469] = [0, 0, 255]\n",
    "img[532:589, 142:203] = [0, 0, 255]\n",
    "img[15:125, 581:691] = [0, 0, 255]\n",
    "img[464:498, 51:89] = [0, 0, 255]\n",
    "img[58:166, 183:357] = [0, 0, 255]"
   ]
  },
  {
   "cell_type": "code",
   "execution_count": 6,
   "id": "5ef34383",
   "metadata": {},
   "outputs": [],
   "source": [
    "cv2.imshow(\"img\", img)\n",
    "cv2.waitKey() == 13\n",
    "cv2.destroyAllWindows()"
   ]
  },
  {
   "cell_type": "code",
   "execution_count": null,
   "id": "0f7e4b2c",
   "metadata": {},
   "outputs": [],
   "source": []
  }
 ],
 "metadata": {
  "kernelspec": {
   "display_name": "Python 3",
   "language": "python",
   "name": "python3"
  },
  "language_info": {
   "codemirror_mode": {
    "name": "ipython",
    "version": 3
   },
   "file_extension": ".py",
   "mimetype": "text/x-python",
   "name": "python",
   "nbconvert_exporter": "python",
   "pygments_lexer": "ipython3",
   "version": "3.6.8"
  }
 },
 "nbformat": 4,
 "nbformat_minor": 5
}
